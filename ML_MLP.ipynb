{
 "cells": [
  {
   "cell_type": "markdown",
   "id": "14b24c97",
   "metadata": {},
   "source": [
    "# Data Loading and Exploration"
   ]
  },
  {
   "cell_type": "code",
   "execution_count": null,
   "id": "9acb4f89",
   "metadata": {},
   "outputs": [],
   "source": [
    "#Import libraries\n",
    "import pandas as pd\n",
    "import dask.dataframe as dd\n",
    "import numpy as np\n",
    "from sklearn.model_selection import train_test_split\n",
    "import time\n",
    "from functools import reduce\n",
    "from sklearn.compose import ColumnTransformer\n",
    "from sklearn.pipeline import Pipeline\n",
    "from sklearn.preprocessing import OneHotEncoder, StandardScaler, LabelEncoder\n",
    "from sklearn.neural_network import MLPClassifier, MLPRegressor\n",
    "from sklearn.metrics import accuracy_score, mean_squared_error, mean_absolute_error, r2_score"
   ]
  },
  {
   "cell_type": "code",
   "execution_count": 2,
   "id": "447e1215",
   "metadata": {},
   "outputs": [],
   "source": [
    "#Load data\n",
    "df_cropsprod = pd.read_csv(\"Crops production indicators - FAOSTAT_data_en_2-22-2024.csv\")\n",
    "df_exchange = pd.read_csv(\"Exchange rate - FAOSTAT_data_en_2-22-2024.csv\")\n",
    "df_foodbalance = pd.read_csv(\"Food balances indicators - FAOSTAT_data_en_2-22-2024.csv\")\n",
    "df_foodtrade = pd.read_csv(\"Food trade indicators - FAOSTAT_data_en_2-22-2024.csv\")\n",
    "df_landtemp = pd.read_csv(\"Land temperature change - FAOSTAT_data_en_2-27-2024.csv\")"
   ]
  },
  {
   "cell_type": "markdown",
   "id": "062cf199",
   "metadata": {},
   "source": [
    "## Exploring each dataset"
   ]
  },
  {
   "cell_type": "code",
   "execution_count": 3,
   "id": "19f30ede",
   "metadata": {},
   "outputs": [],
   "source": [
    "dfs = [df_cropsprod, df_exchange, df_foodbalance, df_foodtrade, df_landtemp]\n",
    "df_names = ['cropsprod', 'exchange', 'foodbalance', 'foodtrade', 'landtemp']"
   ]
  },
  {
   "cell_type": "code",
   "execution_count": 4,
   "id": "6f0e3e7b",
   "metadata": {
    "scrolled": true
   },
   "outputs": [
    {
     "name": "stdout",
     "output_type": "stream",
     "text": [
      "Exploring DataFrame: cropsprod\n",
      "\n",
      "Info:\n",
      "<class 'pandas.core.frame.DataFrame'>\n",
      "RangeIndex: 41649 entries, 0 to 41648\n",
      "Data columns (total 15 columns):\n",
      " #   Column            Non-Null Count  Dtype  \n",
      "---  ------            --------------  -----  \n",
      " 0   Domain Code       41649 non-null  object \n",
      " 1   Domain            41649 non-null  object \n",
      " 2   Area Code (M49)   41649 non-null  int64  \n",
      " 3   Area              41649 non-null  object \n",
      " 4   Element Code      41649 non-null  int64  \n",
      " 5   Element           41649 non-null  object \n",
      " 6   Item Code (CPC)   41649 non-null  object \n",
      " 7   Item              41649 non-null  object \n",
      " 8   Year Code         41649 non-null  int64  \n",
      " 9   Year              41649 non-null  int64  \n",
      " 10  Unit              41649 non-null  object \n",
      " 11  Value             41649 non-null  int64  \n",
      " 12  Flag              41649 non-null  object \n",
      " 13  Flag Description  41649 non-null  object \n",
      " 14  Note              0 non-null      float64\n",
      "dtypes: float64(1), int64(5), object(9)\n",
      "memory usage: 4.8+ MB\n",
      "None\n",
      "n/samples:\n",
      "      Domain Code                        Domain  Area Code (M49)  \\\n",
      "12518         QCL  Crops and livestock products              226   \n",
      "41135         QCL  Crops and livestock products              887   \n",
      "4164          QCL  Crops and livestock products               64   \n",
      "10337         QCL  Crops and livestock products              203   \n",
      "13644         QCL  Crops and livestock products              242   \n",
      "\n",
      "                    Area  Element Code Element Item Code (CPC)  \\\n",
      "12518  Equatorial Guinea          5419   Yield           F1738   \n",
      "41135              Yemen          5419   Yield           F1729   \n",
      "4164              Bhutan          5419   Yield           F1726   \n",
      "10337            Czechia          5419   Yield           F1717   \n",
      "13644               Fiji          5419   Yield           F1735   \n",
      "\n",
      "                     Item  Year Code  Year      Unit  Value Flag  \\\n",
      "12518       Fruit Primary       2008  2008  100 g/ha  48258    E   \n",
      "41135     Treenuts, Total       2015  2015  100 g/ha  18805    E   \n",
      "4164        Pulses, Total       2018  2018  100 g/ha  10364    E   \n",
      "10337    Cereals, primary       2001  2001  100 g/ha  45086    A   \n",
      "13644  Vegetables Primary       2014  2014  100 g/ha  89163    E   \n",
      "\n",
      "      Flag Description  Note  \n",
      "12518  Estimated value   NaN  \n",
      "41135  Estimated value   NaN  \n",
      "4164   Estimated value   NaN  \n",
      "10337  Official figure   NaN  \n",
      "13644  Estimated value   NaN  \n",
      "\n",
      "\n",
      "Shape:\n",
      "(41649, 15)\n",
      "\n",
      "\n",
      "Columns:\n",
      "Index(['Domain Code', 'Domain', 'Area Code (M49)', 'Area', 'Element Code',\n",
      "       'Element', 'Item Code (CPC)', 'Item', 'Year Code', 'Year', 'Unit',\n",
      "       'Value', 'Flag', 'Flag Description', 'Note'],\n",
      "      dtype='object')\n",
      "\n",
      "\n",
      "Value counts:\n",
      "Series([], dtype: int64)\n",
      "\n",
      "\n",
      "Exploring DataFrame: exchange\n",
      "\n",
      "Info:\n",
      "<class 'pandas.core.frame.DataFrame'>\n",
      "RangeIndex: 103276 entries, 0 to 103275\n",
      "Data columns (total 16 columns):\n",
      " #   Column                   Non-Null Count   Dtype  \n",
      "---  ------                   --------------   -----  \n",
      " 0   Domain Code              103276 non-null  object \n",
      " 1   Domain                   103276 non-null  object \n",
      " 2   Area Code (M49)          103276 non-null  int64  \n",
      " 3   Area                     103276 non-null  object \n",
      " 4   ISO Currency Code (FAO)  103276 non-null  object \n",
      " 5   Currency                 103276 non-null  object \n",
      " 6   Element Code             103276 non-null  object \n",
      " 7   Element                  103276 non-null  object \n",
      " 8   Year Code                103276 non-null  int64  \n",
      " 9   Year                     103276 non-null  int64  \n",
      " 10  Months Code              103276 non-null  int64  \n",
      " 11  Months                   103276 non-null  object \n",
      " 12  Unit                     0 non-null       float64\n",
      " 13  Value                    103276 non-null  float64\n",
      " 14  Flag                     103276 non-null  object \n",
      " 15  Flag Description         103276 non-null  object \n",
      "dtypes: float64(2), int64(4), object(10)\n",
      "memory usage: 12.6+ MB\n",
      "None\n",
      "n/samples:\n",
      "      Domain Code          Domain  Area Code (M49)              Area  \\\n",
      "88899          PE  Exchange rates              728       South Sudan   \n",
      "2405           PE  Exchange rates               24            Angola   \n",
      "19853          PE  Exchange rates              446  China, Macao SAR   \n",
      "96828          PE  Exchange rates              800            Uganda   \n",
      "72715          PE  Exchange rates              512              Oman   \n",
      "\n",
      "      ISO Currency Code (FAO)              Currency Element Code  \\\n",
      "88899                     SSP  South Sudanese Pound          LCU   \n",
      "2405                      AOK                Kwanza          LCU   \n",
      "19853                     MOP                Pataca          LCU   \n",
      "96828                     UGX       Uganda Shilling          LCU   \n",
      "72715                     OMR            Rial Omani          LCU   \n",
      "\n",
      "                            Element  Year Code  Year  Months Code     Months  \\\n",
      "88899  Local currency units per USD       2016  2016         7012   December   \n",
      "2405   Local currency units per USD       1988  1988         7003      March   \n",
      "19853  Local currency units per USD       1994  1994         7002   February   \n",
      "96828  Local currency units per USD       2016  2016         7009  September   \n",
      "72715  Local currency units per USD       2023  2023         7001    January   \n",
      "\n",
      "       Unit       Value Flag                         Flag Description  \n",
      "88899   NaN    79.20000    X  Figure from international organizations  \n",
      "2405    NaN    29.90000    X  Figure from international organizations  \n",
      "19853   NaN     7.96370    X  Figure from international organizations  \n",
      "96828   NaN  3381.40619    X  Figure from international organizations  \n",
      "72715   NaN     0.38450    X  Figure from international organizations  \n",
      "\n",
      "\n",
      "Shape:\n",
      "(103276, 16)\n",
      "\n",
      "\n",
      "Columns:\n",
      "Index(['Domain Code', 'Domain', 'Area Code (M49)', 'Area',\n",
      "       'ISO Currency Code (FAO)', 'Currency', 'Element Code', 'Element',\n",
      "       'Year Code', 'Year', 'Months Code', 'Months', 'Unit', 'Value', 'Flag',\n",
      "       'Flag Description'],\n",
      "      dtype='object')\n",
      "\n",
      "\n",
      "Value counts:\n",
      "Series([], dtype: int64)\n",
      "\n",
      "\n",
      "Exploring DataFrame: foodbalance\n",
      "\n",
      "Info:\n",
      "<class 'pandas.core.frame.DataFrame'>\n",
      "RangeIndex: 148041 entries, 0 to 148040\n",
      "Data columns (total 14 columns):\n",
      " #   Column            Non-Null Count   Dtype  \n",
      "---  ------            --------------   -----  \n",
      " 0   Domain Code       148041 non-null  object \n",
      " 1   Domain            148041 non-null  object \n",
      " 2   Area Code (M49)   148041 non-null  int64  \n",
      " 3   Area              148041 non-null  object \n",
      " 4   Element Code      148041 non-null  int64  \n",
      " 5   Element           148041 non-null  object \n",
      " 6   Item Code (FBS)   148041 non-null  object \n",
      " 7   Item              148041 non-null  object \n",
      " 8   Year Code         148041 non-null  int64  \n",
      " 9   Year              148041 non-null  int64  \n",
      " 10  Unit              148041 non-null  object \n",
      " 11  Value             148041 non-null  float64\n",
      " 12  Flag              148041 non-null  object \n",
      " 13  Flag Description  148041 non-null  object \n",
      "dtypes: float64(1), int64(4), object(9)\n",
      "memory usage: 15.8+ MB\n",
      "None\n",
      "n/samples:\n",
      "       Domain Code                 Domain  Area Code (M49)           Area  \\\n",
      "33201          FBS  Food Balances (2010-)              384  Côte d'Ivoire   \n",
      "2293           FBS  Food Balances (2010-)               12        Algeria   \n",
      "127879         FBS  Food Balances (2010-)              752         Sweden   \n",
      "69393          FBS  Food Balances (2010-)              392          Japan   \n",
      "81712          FBS  Food Balances (2010-)              450     Madagascar   \n",
      "\n",
      "        Element Code          Element Item Code (FBS)  \\\n",
      "33201           5142             Food           S2911   \n",
      "2293            5123           Losses           S2948   \n",
      "127879          5611  Import Quantity           S2913   \n",
      "69393           5911  Export Quantity           S2913   \n",
      "81712           5123           Losses           S2923   \n",
      "\n",
      "                           Item  Year Code  Year    Unit  Value Flag  \\\n",
      "33201                    Pulses       2018  2018  1000 t   55.0    E   \n",
      "2293    Milk - Excluding Butter       2014  2014  1000 t  357.0    E   \n",
      "127879                 Oilcrops       2011  2011  1000 t  287.0    E   \n",
      "69393                  Oilcrops       2012  2012  1000 t    6.0    E   \n",
      "81712                    Spices       2015  2015  1000 t    2.0    E   \n",
      "\n",
      "       Flag Description  \n",
      "33201   Estimated value  \n",
      "2293    Estimated value  \n",
      "127879  Estimated value  \n",
      "69393   Estimated value  \n",
      "81712   Estimated value  \n",
      "\n",
      "\n",
      "Shape:\n",
      "(148041, 14)\n",
      "\n",
      "\n",
      "Columns:\n",
      "Index(['Domain Code', 'Domain', 'Area Code (M49)', 'Area', 'Element Code',\n",
      "       'Element', 'Item Code (FBS)', 'Item', 'Year Code', 'Year', 'Unit',\n",
      "       'Value', 'Flag', 'Flag Description'],\n",
      "      dtype='object')\n",
      "\n",
      "\n",
      "Value counts:\n"
     ]
    },
    {
     "name": "stdout",
     "output_type": "stream",
     "text": [
      "Domain Code  Domain                 Area Code (M49)  Area         Element Code  Element                Item Code (FBS)  Item                      Year Code  Year  Unit    Value   Flag  Flag Description\n",
      "FBS          Food Balances (2010-)  4                Afghanistan  5123          Losses                 S2905            Cereals - Excluding Beer  2010       2010  1000 t  837.00  E     Estimated value     1\n",
      "                                    558              Nicaragua    5154          Other uses (non-food)  S2908            Sugar Crops               2018       2018  1000 t  521.00  E     Estimated value     1\n",
      "                                                                  5142          Food                   S2949            Eggs                      2014       2014  1000 t  31.00   E     Estimated value     1\n",
      "                                                                                                                                                  2015       2015  1000 t  33.00   E     Estimated value     1\n",
      "                                                                                                                                                  2016       2016  1000 t  41.00   E     Estimated value     1\n",
      "                                                                                                                                                                                                            ..\n",
      "                                    270              Gambia       5911          Export Quantity        S2914            Vegetable Oils            2021       2021  1000 t  1.00    E     Estimated value     1\n",
      "                                                                                                       S2918            Vegetables                2010       2010  1000 t  1.00    E     Estimated value     1\n",
      "                                                                                                                                                  2011       2011  1000 t  39.00   E     Estimated value     1\n",
      "                                                                                                                                                  2012       2012  1000 t  32.00   E     Estimated value     1\n",
      "                                    894              Zambia       5911          Export Quantity        S2960            Fish, Seafood             2021       2021  1000 t  5.05    E     Estimated value     1\n",
      "Length: 148041, dtype: int64\n",
      "\n",
      "\n",
      "Exploring DataFrame: foodtrade\n",
      "\n",
      "Info:\n",
      "<class 'pandas.core.frame.DataFrame'>\n",
      "RangeIndex: 141738 entries, 0 to 141737\n",
      "Data columns (total 15 columns):\n",
      " #   Column            Non-Null Count   Dtype  \n",
      "---  ------            --------------   -----  \n",
      " 0   Domain Code       141738 non-null  object \n",
      " 1   Domain            141738 non-null  object \n",
      " 2   Area Code (M49)   141738 non-null  int64  \n",
      " 3   Area              141738 non-null  object \n",
      " 4   Element Code      141738 non-null  int64  \n",
      " 5   Element           141738 non-null  object \n",
      " 6   Item Code (CPC)   141738 non-null  object \n",
      " 7   Item              141738 non-null  object \n",
      " 8   Year Code         141738 non-null  int64  \n",
      " 9   Year              141738 non-null  int64  \n",
      " 10  Unit              141738 non-null  object \n",
      " 11  Value             141738 non-null  float64\n",
      " 12  Flag              141738 non-null  object \n",
      " 13  Flag Description  141738 non-null  object \n",
      " 14  Note              0 non-null       float64\n",
      "dtypes: float64(2), int64(4), object(9)\n",
      "memory usage: 16.2+ MB\n",
      "None\n",
      "n/samples:\n",
      "       Domain Code                        Domain  Area Code (M49)  \\\n",
      "78887          TCL  Crops and livestock products              458   \n",
      "6175           TCL  Crops and livestock products               40   \n",
      "125821         TCL  Crops and livestock products              764   \n",
      "101662         TCL  Crops and livestock products              616   \n",
      "111168         TCL  Crops and livestock products              682   \n",
      "\n",
      "                Area  Element Code       Element Item Code (CPC)  \\\n",
      "78887       Malaysia          5622  Import Value           F1888   \n",
      "6175         Austria          5622  Import Value           F1907   \n",
      "125821      Thailand          5922  Export Value           F1847   \n",
      "101662        Poland          5922  Export Value           F1888   \n",
      "111168  Saudi Arabia          5922  Export Value           F1844   \n",
      "\n",
      "                                    Item  Year Code  Year      Unit  \\\n",
      "78887           Cereals and Preparations       2009  2009  1000 USD   \n",
      "6175                 Alcoholic Beverages       2006  2006  1000 USD   \n",
      "125821                          Non-food       1991  1991  1000 USD   \n",
      "101662          Cereals and Preparations       1995  1995  1000 USD   \n",
      "111168  Fats and Oils (excluding Butter)       1992  1992  1000 USD   \n",
      "\n",
      "            Value Flag Flag Description  Note  \n",
      "78887   1957197.0    A  Official figure   NaN  \n",
      "6175     363333.0    A  Official figure   NaN  \n",
      "125821  1409738.0    A  Official figure   NaN  \n",
      "101662    93756.0    A  Official figure   NaN  \n",
      "111168    21267.0    A  Official figure   NaN  \n",
      "\n",
      "\n",
      "Shape:\n",
      "(141738, 15)\n",
      "\n",
      "\n",
      "Columns:\n",
      "Index(['Domain Code', 'Domain', 'Area Code (M49)', 'Area', 'Element Code',\n",
      "       'Element', 'Item Code (CPC)', 'Item', 'Year Code', 'Year', 'Unit',\n",
      "       'Value', 'Flag', 'Flag Description', 'Note'],\n",
      "      dtype='object')\n",
      "\n",
      "\n",
      "Value counts:\n",
      "Series([], dtype: int64)\n",
      "\n",
      "\n",
      "Exploring DataFrame: landtemp\n",
      "\n",
      "Info:\n",
      "<class 'pandas.core.frame.DataFrame'>\n",
      "RangeIndex: 54810 entries, 0 to 54809\n",
      "Data columns (total 14 columns):\n",
      " #   Column            Non-Null Count  Dtype  \n",
      "---  ------            --------------  -----  \n",
      " 0   Domain Code       54810 non-null  object \n",
      " 1   Domain            54810 non-null  object \n",
      " 2   Area Code (M49)   54810 non-null  int64  \n",
      " 3   Area              54810 non-null  object \n",
      " 4   Element Code      54810 non-null  int64  \n",
      " 5   Element           54810 non-null  object \n",
      " 6   Months Code       54810 non-null  int64  \n",
      " 7   Months            54810 non-null  object \n",
      " 8   Year Code         54810 non-null  int64  \n",
      " 9   Year              54810 non-null  int64  \n",
      " 10  Unit              54810 non-null  object \n",
      " 11  Value             48255 non-null  float64\n",
      " 12  Flag              54810 non-null  object \n",
      " 13  Flag Description  54810 non-null  object \n",
      "dtypes: float64(1), int64(5), object(8)\n",
      "memory usage: 5.9+ MB\n",
      "None\n",
      "n/samples:\n",
      "      Domain Code                      Domain  Area Code (M49)           Area  \\\n",
      "26065          ET  Temperature change on land              296       Kiribati   \n",
      "40638          ET  Temperature change on land              638        Réunion   \n",
      "31787          ET  Temperature change on land              488  Midway Island   \n",
      "18031          ET  Temperature change on land              254  French Guiana   \n",
      "12524          ET  Temperature change on land              384  Côte d'Ivoire   \n",
      "\n",
      "       Element Code             Element  Months Code               Months  \\\n",
      "26065          6078  Standard Deviation         7017          Mar–Apr–May   \n",
      "40638          6078  Standard Deviation         7020  Meteorological year   \n",
      "31787          7271  Temperature change         7017          Mar–Apr–May   \n",
      "18031          6078  Standard Deviation         7017          Mar–Apr–May   \n",
      "12524          7271  Temperature change         7018          Jun–Jul–Aug   \n",
      "\n",
      "       Year Code  Year Unit  Value Flag  \\\n",
      "26065       2006  2006   °c  0.200    E   \n",
      "40638       2011  2011   °c    NaN    M   \n",
      "31787       2001  2001   °c    NaN    O   \n",
      "18031       2022  2022   °c  0.262    E   \n",
      "12524       2012  2012   °c  0.638    E   \n",
      "\n",
      "                                        Flag Description  \n",
      "26065                                    Estimated value  \n",
      "40638  Missing value (data cannot exist, not applicable)  \n",
      "31787                                      Missing value  \n",
      "18031                                    Estimated value  \n",
      "12524                                    Estimated value  \n",
      "\n",
      "\n",
      "Shape:\n",
      "(54810, 14)\n",
      "\n",
      "\n",
      "Columns:\n",
      "Index(['Domain Code', 'Domain', 'Area Code (M49)', 'Area', 'Element Code',\n",
      "       'Element', 'Months Code', 'Months', 'Year Code', 'Year', 'Unit',\n",
      "       'Value', 'Flag', 'Flag Description'],\n",
      "      dtype='object')\n",
      "\n",
      "\n",
      "Value counts:\n",
      "Domain Code  Domain                      Area Code (M49)  Area            Element Code  Element             Months Code  Months               Year Code  Year  Unit  Value   Flag  Flag Description\n",
      "ET           Temperature change on land  4                Afghanistan     6078          Standard Deviation  7016         Dec–Jan–Feb          2000       2000  °c     1.347  E     Estimated value     1\n",
      "                                         574              Norfolk Island  7271          Temperature change  7016         Dec–Jan–Feb          2010       2010  °c     0.604  E     Estimated value     1\n",
      "                                                                                                                                              2001       2001  °c    -0.196  E     Estimated value     1\n",
      "                                                                                                                                              2002       2002  °c     0.504  E     Estimated value     1\n",
      "                                                                                                                                              2003       2003  °c    -0.129  E     Estimated value     1\n",
      "                                                                                                                                                                                                      ..\n",
      "                                         275              Palestine       7271          Temperature change  7017         Mar–Apr–May          2001       2001  °c     1.868  E     Estimated value     1\n",
      "                                                                                                                                              2002       2002  °c     0.467  E     Estimated value     1\n",
      "                                                                                                                                              2003       2003  °c     0.525  E     Estimated value     1\n",
      "                                                                                                                                              2004       2004  °c     0.709  E     Estimated value     1\n",
      "                                         894              Zambia          7271          Temperature change  7020         Meteorological year  2022       2022  °c     0.686  E     Estimated value     1\n",
      "Length: 48255, dtype: int64\n",
      "\n",
      "\n"
     ]
    }
   ],
   "source": [
    "#Check df properties\n",
    "for df_name, df in zip(df_names, dfs):\n",
    "    print(f\"Exploring DataFrame: {df_name}\\n\")\n",
    "\n",
    "    # Explore the DataFrame\n",
    "    print(\"Info:\")\n",
    "    print(df.info())\n",
    "    \n",
    "    print(\"n/samples:\")\n",
    "    print(df.sample(5))\n",
    "    print(\"\\n\")\n",
    "    \n",
    "    print(\"Shape:\")\n",
    "    print(df.shape)\n",
    "    print(\"\\n\")\n",
    "    \n",
    "    print(\"Columns:\")\n",
    "    print(df.columns)\n",
    "    print(\"\\n\")\n",
    "\n",
    "    print(\"Value counts:\")\n",
    "    print(df.value_counts())\n",
    "    print(\"\\n\")\n",
    "\n"
   ]
  },
  {
   "cell_type": "code",
   "execution_count": 5,
   "id": "71188d0a",
   "metadata": {},
   "outputs": [
    {
     "data": {
      "text/plain": [
       "array(['Import Value', 'Export Value'], dtype=object)"
      ]
     },
     "execution_count": 5,
     "metadata": {},
     "output_type": "execute_result"
    }
   ],
   "source": [
    "df_foodtrade.Element.unique()"
   ]
  },
  {
   "cell_type": "code",
   "execution_count": 6,
   "id": "1c723f42",
   "metadata": {},
   "outputs": [
    {
     "data": {
      "text/plain": [
       "array([5622, 5922])"
      ]
     },
     "execution_count": 6,
     "metadata": {},
     "output_type": "execute_result"
    }
   ],
   "source": [
    "df_foodtrade[\"Element Code\"].unique()"
   ]
  },
  {
   "cell_type": "code",
   "execution_count": 7,
   "id": "20f6026f",
   "metadata": {},
   "outputs": [
    {
     "data": {
      "text/plain": [
       "array([5611, 5911, 5123, 5154, 5142])"
      ]
     },
     "execution_count": 7,
     "metadata": {},
     "output_type": "execute_result"
    }
   ],
   "source": [
    "df_foodbalance[\"Element Code\"].unique()"
   ]
  },
  {
   "cell_type": "code",
   "execution_count": 8,
   "id": "3b12295f",
   "metadata": {},
   "outputs": [
    {
     "data": {
      "text/plain": [
       "array(['Import Quantity', 'Export Quantity', 'Losses',\n",
       "       'Other uses (non-food)', 'Food'], dtype=object)"
      ]
     },
     "execution_count": 8,
     "metadata": {},
     "output_type": "execute_result"
    }
   ],
   "source": [
    "df_foodbalance['Element'].unique()"
   ]
  },
  {
   "cell_type": "markdown",
   "id": "99aaad28",
   "metadata": {},
   "source": [
    "# Data Preprocessing"
   ]
  },
  {
   "cell_type": "code",
   "execution_count": 9,
   "id": "8a54757a",
   "metadata": {},
   "outputs": [],
   "source": [
    "#average exchange rate per year\n",
    "avg_exchange_rate_per_year = df_exchange.groupby(['Year', 'Area'])['Value'].mean().reset_index()"
   ]
  },
  {
   "cell_type": "code",
   "execution_count": 10,
   "id": "7c47111c",
   "metadata": {},
   "outputs": [
    {
     "data": {
      "text/html": [
       "<div>\n",
       "<style scoped>\n",
       "    .dataframe tbody tr th:only-of-type {\n",
       "        vertical-align: middle;\n",
       "    }\n",
       "\n",
       "    .dataframe tbody tr th {\n",
       "        vertical-align: top;\n",
       "    }\n",
       "\n",
       "    .dataframe thead th {\n",
       "        text-align: right;\n",
       "    }\n",
       "</style>\n",
       "<table border=\"1\" class=\"dataframe\">\n",
       "  <thead>\n",
       "    <tr style=\"text-align: right;\">\n",
       "      <th></th>\n",
       "      <th>Year</th>\n",
       "      <th>Area</th>\n",
       "      <th>Value</th>\n",
       "    </tr>\n",
       "  </thead>\n",
       "  <tbody>\n",
       "    <tr>\n",
       "      <th>0</th>\n",
       "      <td>1980</td>\n",
       "      <td>Afghanistan</td>\n",
       "      <td>44.129167</td>\n",
       "    </tr>\n",
       "    <tr>\n",
       "      <th>1</th>\n",
       "      <td>1980</td>\n",
       "      <td>Algeria</td>\n",
       "      <td>3.837450</td>\n",
       "    </tr>\n",
       "    <tr>\n",
       "      <th>2</th>\n",
       "      <td>1980</td>\n",
       "      <td>Angola</td>\n",
       "      <td>29.900000</td>\n",
       "    </tr>\n",
       "    <tr>\n",
       "      <th>3</th>\n",
       "      <td>1980</td>\n",
       "      <td>Anguilla</td>\n",
       "      <td>2.700000</td>\n",
       "    </tr>\n",
       "    <tr>\n",
       "      <th>4</th>\n",
       "      <td>1980</td>\n",
       "      <td>Antigua and Barbuda</td>\n",
       "      <td>2.700000</td>\n",
       "    </tr>\n",
       "  </tbody>\n",
       "</table>\n",
       "</div>"
      ],
      "text/plain": [
       "   Year                 Area      Value\n",
       "0  1980          Afghanistan  44.129167\n",
       "1  1980              Algeria   3.837450\n",
       "2  1980               Angola  29.900000\n",
       "3  1980             Anguilla   2.700000\n",
       "4  1980  Antigua and Barbuda   2.700000"
      ]
     },
     "execution_count": 10,
     "metadata": {},
     "output_type": "execute_result"
    }
   ],
   "source": [
    "avg_exchange_rate_per_year.head()"
   ]
  },
  {
   "cell_type": "code",
   "execution_count": 11,
   "id": "5693ce95",
   "metadata": {},
   "outputs": [],
   "source": [
    "#average temperature change per year\n",
    "avg_temp_per_year = df_landtemp.groupby(['Year', 'Area'])['Value'].mean().reset_index()"
   ]
  },
  {
   "cell_type": "code",
   "execution_count": 12,
   "id": "6f44c41d",
   "metadata": {},
   "outputs": [
    {
     "data": {
      "text/html": [
       "<div>\n",
       "<style scoped>\n",
       "    .dataframe tbody tr th:only-of-type {\n",
       "        vertical-align: middle;\n",
       "    }\n",
       "\n",
       "    .dataframe tbody tr th {\n",
       "        vertical-align: top;\n",
       "    }\n",
       "\n",
       "    .dataframe thead th {\n",
       "        text-align: right;\n",
       "    }\n",
       "</style>\n",
       "<table border=\"1\" class=\"dataframe\">\n",
       "  <thead>\n",
       "    <tr style=\"text-align: right;\">\n",
       "      <th></th>\n",
       "      <th>Year</th>\n",
       "      <th>Area</th>\n",
       "      <th>Value</th>\n",
       "    </tr>\n",
       "  </thead>\n",
       "  <tbody>\n",
       "    <tr>\n",
       "      <th>0</th>\n",
       "      <td>2000</td>\n",
       "      <td>Afghanistan</td>\n",
       "      <td>0.9128</td>\n",
       "    </tr>\n",
       "    <tr>\n",
       "      <th>1</th>\n",
       "      <td>2000</td>\n",
       "      <td>Albania</td>\n",
       "      <td>0.9002</td>\n",
       "    </tr>\n",
       "    <tr>\n",
       "      <th>2</th>\n",
       "      <td>2000</td>\n",
       "      <td>Algeria</td>\n",
       "      <td>0.6867</td>\n",
       "    </tr>\n",
       "    <tr>\n",
       "      <th>3</th>\n",
       "      <td>2000</td>\n",
       "      <td>American Samoa</td>\n",
       "      <td>0.4704</td>\n",
       "    </tr>\n",
       "    <tr>\n",
       "      <th>4</th>\n",
       "      <td>2000</td>\n",
       "      <td>Andorra</td>\n",
       "      <td>0.8999</td>\n",
       "    </tr>\n",
       "  </tbody>\n",
       "</table>\n",
       "</div>"
      ],
      "text/plain": [
       "   Year            Area   Value\n",
       "0  2000     Afghanistan  0.9128\n",
       "1  2000         Albania  0.9002\n",
       "2  2000         Algeria  0.6867\n",
       "3  2000  American Samoa  0.4704\n",
       "4  2000         Andorra  0.8999"
      ]
     },
     "execution_count": 12,
     "metadata": {},
     "output_type": "execute_result"
    }
   ],
   "source": [
    "#average temperature change per year\n",
    "avg_temp_per_year.head()"
   ]
  },
  {
   "cell_type": "code",
   "execution_count": 13,
   "id": "9aa7403a",
   "metadata": {},
   "outputs": [],
   "source": [
    "#duplicate df_fo\n",
    "df_foodtrade = df_foodtrade[df_foodtrade['Element Code'] == 5622].copy()\n",
    "\n",
    "#drop unneccessary columns\n",
    "df_foodtrade.drop(columns=['Domain Code', 'Domain', 'Item Code (CPC)', 'Area Code (M49)', 'Element Code', 'Element', 'Year Code', 'Unit', 'Flag', 'Flag Description', 'Note'], inplace=True)\n"
   ]
  },
  {
   "cell_type": "code",
   "execution_count": 14,
   "id": "c9b6a0dd",
   "metadata": {
    "scrolled": true
   },
   "outputs": [
    {
     "data": {
      "text/html": [
       "<div>\n",
       "<style scoped>\n",
       "    .dataframe tbody tr th:only-of-type {\n",
       "        vertical-align: middle;\n",
       "    }\n",
       "\n",
       "    .dataframe tbody tr th {\n",
       "        vertical-align: top;\n",
       "    }\n",
       "\n",
       "    .dataframe thead th {\n",
       "        text-align: right;\n",
       "    }\n",
       "</style>\n",
       "<table border=\"1\" class=\"dataframe\">\n",
       "  <thead>\n",
       "    <tr style=\"text-align: right;\">\n",
       "      <th></th>\n",
       "      <th>Area</th>\n",
       "      <th>Item</th>\n",
       "      <th>Year</th>\n",
       "      <th>Value</th>\n",
       "    </tr>\n",
       "  </thead>\n",
       "  <tbody>\n",
       "    <tr>\n",
       "      <th>0</th>\n",
       "      <td>Afghanistan</td>\n",
       "      <td>Cereals and Preparations</td>\n",
       "      <td>1991</td>\n",
       "      <td>41600.0</td>\n",
       "    </tr>\n",
       "    <tr>\n",
       "      <th>1</th>\n",
       "      <td>Afghanistan</td>\n",
       "      <td>Cereals and Preparations</td>\n",
       "      <td>1992</td>\n",
       "      <td>25600.0</td>\n",
       "    </tr>\n",
       "    <tr>\n",
       "      <th>2</th>\n",
       "      <td>Afghanistan</td>\n",
       "      <td>Cereals and Preparations</td>\n",
       "      <td>1993</td>\n",
       "      <td>40000.0</td>\n",
       "    </tr>\n",
       "    <tr>\n",
       "      <th>3</th>\n",
       "      <td>Afghanistan</td>\n",
       "      <td>Cereals and Preparations</td>\n",
       "      <td>1994</td>\n",
       "      <td>25700.0</td>\n",
       "    </tr>\n",
       "    <tr>\n",
       "      <th>4</th>\n",
       "      <td>Afghanistan</td>\n",
       "      <td>Cereals and Preparations</td>\n",
       "      <td>1995</td>\n",
       "      <td>37720.0</td>\n",
       "    </tr>\n",
       "  </tbody>\n",
       "</table>\n",
       "</div>"
      ],
      "text/plain": [
       "          Area                      Item  Year    Value\n",
       "0  Afghanistan  Cereals and Preparations  1991  41600.0\n",
       "1  Afghanistan  Cereals and Preparations  1992  25600.0\n",
       "2  Afghanistan  Cereals and Preparations  1993  40000.0\n",
       "3  Afghanistan  Cereals and Preparations  1994  25700.0\n",
       "4  Afghanistan  Cereals and Preparations  1995  37720.0"
      ]
     },
     "execution_count": 14,
     "metadata": {},
     "output_type": "execute_result"
    }
   ],
   "source": [
    "df_foodtrade.head()"
   ]
  },
  {
   "cell_type": "code",
   "execution_count": 15,
   "id": "d116ce8d",
   "metadata": {},
   "outputs": [],
   "source": [
    "#Filter rows in df_foodbalance\n",
    "df_foodbalance = df_foodbalance[df_foodbalance['Element Code'] == 5911].copy()\n",
    "df_foodbalance = df_foodbalance[['Year', 'Area', 'Item', 'Value']]"
   ]
  },
  {
   "cell_type": "code",
   "execution_count": 16,
   "id": "6ddc9469",
   "metadata": {},
   "outputs": [
    {
     "data": {
      "text/html": [
       "<div>\n",
       "<style scoped>\n",
       "    .dataframe tbody tr th:only-of-type {\n",
       "        vertical-align: middle;\n",
       "    }\n",
       "\n",
       "    .dataframe tbody tr th {\n",
       "        vertical-align: top;\n",
       "    }\n",
       "\n",
       "    .dataframe thead th {\n",
       "        text-align: right;\n",
       "    }\n",
       "</style>\n",
       "<table border=\"1\" class=\"dataframe\">\n",
       "  <thead>\n",
       "    <tr style=\"text-align: right;\">\n",
       "      <th></th>\n",
       "      <th>Year</th>\n",
       "      <th>Area</th>\n",
       "      <th>Item</th>\n",
       "      <th>Value</th>\n",
       "    </tr>\n",
       "  </thead>\n",
       "  <tbody>\n",
       "    <tr>\n",
       "      <th>12</th>\n",
       "      <td>2010</td>\n",
       "      <td>Afghanistan</td>\n",
       "      <td>Cereals - Excluding Beer</td>\n",
       "      <td>0.0</td>\n",
       "    </tr>\n",
       "    <tr>\n",
       "      <th>13</th>\n",
       "      <td>2011</td>\n",
       "      <td>Afghanistan</td>\n",
       "      <td>Cereals - Excluding Beer</td>\n",
       "      <td>0.0</td>\n",
       "    </tr>\n",
       "    <tr>\n",
       "      <th>14</th>\n",
       "      <td>2012</td>\n",
       "      <td>Afghanistan</td>\n",
       "      <td>Cereals - Excluding Beer</td>\n",
       "      <td>0.0</td>\n",
       "    </tr>\n",
       "    <tr>\n",
       "      <th>15</th>\n",
       "      <td>2013</td>\n",
       "      <td>Afghanistan</td>\n",
       "      <td>Cereals - Excluding Beer</td>\n",
       "      <td>0.0</td>\n",
       "    </tr>\n",
       "    <tr>\n",
       "      <th>16</th>\n",
       "      <td>2014</td>\n",
       "      <td>Afghanistan</td>\n",
       "      <td>Cereals - Excluding Beer</td>\n",
       "      <td>2.0</td>\n",
       "    </tr>\n",
       "  </tbody>\n",
       "</table>\n",
       "</div>"
      ],
      "text/plain": [
       "    Year         Area                      Item  Value\n",
       "12  2010  Afghanistan  Cereals - Excluding Beer    0.0\n",
       "13  2011  Afghanistan  Cereals - Excluding Beer    0.0\n",
       "14  2012  Afghanistan  Cereals - Excluding Beer    0.0\n",
       "15  2013  Afghanistan  Cereals - Excluding Beer    0.0\n",
       "16  2014  Afghanistan  Cereals - Excluding Beer    2.0"
      ]
     },
     "execution_count": 16,
     "metadata": {},
     "output_type": "execute_result"
    }
   ],
   "source": [
    "df_foodbalance.head()"
   ]
  },
  {
   "cell_type": "code",
   "execution_count": 17,
   "id": "508ffc98",
   "metadata": {},
   "outputs": [],
   "source": [
    "#Rename columns\n",
    "df_foodtrade.rename(columns={\"Item\": \"Products\", \"Value\": \"Export Value\"}, inplace=True)\n",
    "df_foodbalance.rename(columns={\"Item\": \"Products\", \"Value\": \"Export Quantity\"}, inplace=True)\n",
    "avg_exchange_rate_per_year.rename(columns={\"Value\": \"Exchange Rate\"}, inplace=True)\n",
    "avg_temp_per_year.rename(columns={\"Value\": \"Land Temperature\"}, inplace=True)\n",
    "df_cropsprod.rename(columns={\"Item\": \"Products\", \"Value\": \"Crop Production\"}, inplace=True)"
   ]
  },
  {
   "cell_type": "markdown",
   "id": "65305cf4",
   "metadata": {},
   "source": [
    "# Feature Engineering"
   ]
  },
  {
   "cell_type": "code",
   "execution_count": 18,
   "id": "86c42604",
   "metadata": {},
   "outputs": [],
   "source": [
    "df_cropsprod = df_cropsprod[['Year', 'Area', 'Products', 'Crop Production']]"
   ]
  },
  {
   "cell_type": "code",
   "execution_count": 19,
   "id": "a69c6596",
   "metadata": {},
   "outputs": [
    {
     "data": {
      "text/html": [
       "<div>\n",
       "<style scoped>\n",
       "    .dataframe tbody tr th:only-of-type {\n",
       "        vertical-align: middle;\n",
       "    }\n",
       "\n",
       "    .dataframe tbody tr th {\n",
       "        vertical-align: top;\n",
       "    }\n",
       "\n",
       "    .dataframe thead th {\n",
       "        text-align: right;\n",
       "    }\n",
       "</style>\n",
       "<table border=\"1\" class=\"dataframe\">\n",
       "  <thead>\n",
       "    <tr style=\"text-align: right;\">\n",
       "      <th></th>\n",
       "      <th>Year</th>\n",
       "      <th>Area</th>\n",
       "      <th>Products</th>\n",
       "      <th>Crop Production</th>\n",
       "    </tr>\n",
       "  </thead>\n",
       "  <tbody>\n",
       "    <tr>\n",
       "      <th>0</th>\n",
       "      <td>2000</td>\n",
       "      <td>Afghanistan</td>\n",
       "      <td>Cereals, primary</td>\n",
       "      <td>8063</td>\n",
       "    </tr>\n",
       "    <tr>\n",
       "      <th>1</th>\n",
       "      <td>2001</td>\n",
       "      <td>Afghanistan</td>\n",
       "      <td>Cereals, primary</td>\n",
       "      <td>10067</td>\n",
       "    </tr>\n",
       "    <tr>\n",
       "      <th>2</th>\n",
       "      <td>2002</td>\n",
       "      <td>Afghanistan</td>\n",
       "      <td>Cereals, primary</td>\n",
       "      <td>16698</td>\n",
       "    </tr>\n",
       "    <tr>\n",
       "      <th>3</th>\n",
       "      <td>2003</td>\n",
       "      <td>Afghanistan</td>\n",
       "      <td>Cereals, primary</td>\n",
       "      <td>14580</td>\n",
       "    </tr>\n",
       "    <tr>\n",
       "      <th>4</th>\n",
       "      <td>2004</td>\n",
       "      <td>Afghanistan</td>\n",
       "      <td>Cereals, primary</td>\n",
       "      <td>13348</td>\n",
       "    </tr>\n",
       "  </tbody>\n",
       "</table>\n",
       "</div>"
      ],
      "text/plain": [
       "   Year         Area          Products  Crop Production\n",
       "0  2000  Afghanistan  Cereals, primary             8063\n",
       "1  2001  Afghanistan  Cereals, primary            10067\n",
       "2  2002  Afghanistan  Cereals, primary            16698\n",
       "3  2003  Afghanistan  Cereals, primary            14580\n",
       "4  2004  Afghanistan  Cereals, primary            13348"
      ]
     },
     "execution_count": 19,
     "metadata": {},
     "output_type": "execute_result"
    }
   ],
   "source": [
    "df_cropsprod.head()"
   ]
  },
  {
   "cell_type": "code",
   "execution_count": 20,
   "id": "fae583f2",
   "metadata": {},
   "outputs": [],
   "source": [
    "df = pd.merge(df_foodtrade, df_foodbalance, on=['Year', 'Area', 'Products'], how='outer')\n",
    "df = pd.merge(df, df_cropsprod, on=['Year', 'Area', 'Products'], how='outer')"
   ]
  },
  {
   "cell_type": "code",
   "execution_count": 21,
   "id": "c3a53745",
   "metadata": {},
   "outputs": [
    {
     "data": {
      "text/plain": [
       "0             NaN\n",
       "1             NaN\n",
       "2             NaN\n",
       "3             NaN\n",
       "4             NaN\n",
       "           ...   \n",
       "147163    66518.0\n",
       "147164    64830.0\n",
       "147165    65628.0\n",
       "147166    66126.0\n",
       "147167    65856.0\n",
       "Name: Crop Production, Length: 147168, dtype: float64"
      ]
     },
     "execution_count": 21,
     "metadata": {},
     "output_type": "execute_result"
    }
   ],
   "source": [
    "df[\"Crop Production\"]"
   ]
  },
  {
   "cell_type": "code",
   "execution_count": 22,
   "id": "8d5f2d67",
   "metadata": {},
   "outputs": [],
   "source": [
    "df = pd.merge(df, avg_exchange_rate_per_year, on=['Year', 'Area'], how='left')\n",
    "df = pd.merge(df, avg_temp_per_year, on=['Year', 'Area'], how='left')"
   ]
  },
  {
   "cell_type": "code",
   "execution_count": 23,
   "id": "46ca9b67",
   "metadata": {},
   "outputs": [
    {
     "name": "stdout",
     "output_type": "stream",
     "text": [
      "<class 'pandas.core.frame.DataFrame'>\n",
      "Int64Index: 147168 entries, 0 to 147167\n",
      "Data columns (total 8 columns):\n",
      " #   Column            Non-Null Count   Dtype  \n",
      "---  ------            --------------   -----  \n",
      " 0   Area              147168 non-null  object \n",
      " 1   Products          147168 non-null  object \n",
      " 2   Year              147168 non-null  int64  \n",
      " 3   Export Value      73914 non-null   float64\n",
      " 4   Export Quantity   33676 non-null   float64\n",
      " 5   Crop Production   41649 non-null   float64\n",
      " 6   Exchange Rate     139180 non-null  float64\n",
      " 7   Land Temperature  123657 non-null  float64\n",
      "dtypes: float64(5), int64(1), object(2)\n",
      "memory usage: 10.1+ MB\n"
     ]
    }
   ],
   "source": [
    "df.info()"
   ]
  },
  {
   "cell_type": "code",
   "execution_count": 24,
   "id": "519c50f5",
   "metadata": {},
   "outputs": [],
   "source": [
    "#extract and merge relevant features from df_exchange\n",
    "df_exchange_subset = df_exchange[['Year', 'Area', 'Value']]\n",
    "df_exchange_subset = df_exchange_subset.rename(columns={'Value': 'Exchange Rate'})\n",
    "df = pd.merge(df, df_exchange_subset, on=['Year', 'Area'], how='left')"
   ]
  },
  {
   "cell_type": "code",
   "execution_count": 25,
   "id": "27483edd",
   "metadata": {},
   "outputs": [
    {
     "data": {
      "text/html": [
       "<div>\n",
       "<style scoped>\n",
       "    .dataframe tbody tr th:only-of-type {\n",
       "        vertical-align: middle;\n",
       "    }\n",
       "\n",
       "    .dataframe tbody tr th {\n",
       "        vertical-align: top;\n",
       "    }\n",
       "\n",
       "    .dataframe thead th {\n",
       "        text-align: right;\n",
       "    }\n",
       "</style>\n",
       "<table border=\"1\" class=\"dataframe\">\n",
       "  <thead>\n",
       "    <tr style=\"text-align: right;\">\n",
       "      <th></th>\n",
       "      <th>Area</th>\n",
       "      <th>Products</th>\n",
       "      <th>Year</th>\n",
       "      <th>Export Value</th>\n",
       "      <th>Export Quantity</th>\n",
       "      <th>Crop Production</th>\n",
       "      <th>Exchange Rate_x</th>\n",
       "      <th>Land Temperature</th>\n",
       "      <th>Exchange Rate_y</th>\n",
       "    </tr>\n",
       "  </thead>\n",
       "  <tbody>\n",
       "    <tr>\n",
       "      <th>0</th>\n",
       "      <td>Afghanistan</td>\n",
       "      <td>Cereals and Preparations</td>\n",
       "      <td>1991</td>\n",
       "      <td>41600.0</td>\n",
       "      <td>NaN</td>\n",
       "      <td>NaN</td>\n",
       "      <td>50.599605</td>\n",
       "      <td>NaN</td>\n",
       "      <td>50.599605</td>\n",
       "    </tr>\n",
       "    <tr>\n",
       "      <th>1</th>\n",
       "      <td>Afghanistan</td>\n",
       "      <td>Cereals and Preparations</td>\n",
       "      <td>1991</td>\n",
       "      <td>41600.0</td>\n",
       "      <td>NaN</td>\n",
       "      <td>NaN</td>\n",
       "      <td>50.599605</td>\n",
       "      <td>NaN</td>\n",
       "      <td>50.599605</td>\n",
       "    </tr>\n",
       "    <tr>\n",
       "      <th>2</th>\n",
       "      <td>Afghanistan</td>\n",
       "      <td>Cereals and Preparations</td>\n",
       "      <td>1991</td>\n",
       "      <td>41600.0</td>\n",
       "      <td>NaN</td>\n",
       "      <td>NaN</td>\n",
       "      <td>50.599605</td>\n",
       "      <td>NaN</td>\n",
       "      <td>50.599605</td>\n",
       "    </tr>\n",
       "    <tr>\n",
       "      <th>3</th>\n",
       "      <td>Afghanistan</td>\n",
       "      <td>Cereals and Preparations</td>\n",
       "      <td>1991</td>\n",
       "      <td>41600.0</td>\n",
       "      <td>NaN</td>\n",
       "      <td>NaN</td>\n",
       "      <td>50.599605</td>\n",
       "      <td>NaN</td>\n",
       "      <td>50.599605</td>\n",
       "    </tr>\n",
       "    <tr>\n",
       "      <th>4</th>\n",
       "      <td>Afghanistan</td>\n",
       "      <td>Cereals and Preparations</td>\n",
       "      <td>1991</td>\n",
       "      <td>41600.0</td>\n",
       "      <td>NaN</td>\n",
       "      <td>NaN</td>\n",
       "      <td>50.599605</td>\n",
       "      <td>NaN</td>\n",
       "      <td>50.599605</td>\n",
       "    </tr>\n",
       "    <tr>\n",
       "      <th>...</th>\n",
       "      <td>...</td>\n",
       "      <td>...</td>\n",
       "      <td>...</td>\n",
       "      <td>...</td>\n",
       "      <td>...</td>\n",
       "      <td>...</td>\n",
       "      <td>...</td>\n",
       "      <td>...</td>\n",
       "      <td>...</td>\n",
       "    </tr>\n",
       "    <tr>\n",
       "      <th>1680321</th>\n",
       "      <td>Zimbabwe</td>\n",
       "      <td>Vegetables Primary</td>\n",
       "      <td>2022</td>\n",
       "      <td>NaN</td>\n",
       "      <td>NaN</td>\n",
       "      <td>65856.0</td>\n",
       "      <td>349.518396</td>\n",
       "      <td>-0.0091</td>\n",
       "      <td>337.155164</td>\n",
       "    </tr>\n",
       "    <tr>\n",
       "      <th>1680322</th>\n",
       "      <td>Zimbabwe</td>\n",
       "      <td>Vegetables Primary</td>\n",
       "      <td>2022</td>\n",
       "      <td>NaN</td>\n",
       "      <td>NaN</td>\n",
       "      <td>65856.0</td>\n",
       "      <td>349.518396</td>\n",
       "      <td>-0.0091</td>\n",
       "      <td>400.810038</td>\n",
       "    </tr>\n",
       "    <tr>\n",
       "      <th>1680323</th>\n",
       "      <td>Zimbabwe</td>\n",
       "      <td>Vegetables Primary</td>\n",
       "      <td>2022</td>\n",
       "      <td>NaN</td>\n",
       "      <td>NaN</td>\n",
       "      <td>65856.0</td>\n",
       "      <td>349.518396</td>\n",
       "      <td>-0.0091</td>\n",
       "      <td>495.896171</td>\n",
       "    </tr>\n",
       "    <tr>\n",
       "      <th>1680324</th>\n",
       "      <td>Zimbabwe</td>\n",
       "      <td>Vegetables Primary</td>\n",
       "      <td>2022</td>\n",
       "      <td>NaN</td>\n",
       "      <td>NaN</td>\n",
       "      <td>65856.0</td>\n",
       "      <td>349.518396</td>\n",
       "      <td>-0.0091</td>\n",
       "      <td>597.970000</td>\n",
       "    </tr>\n",
       "    <tr>\n",
       "      <th>1680325</th>\n",
       "      <td>Zimbabwe</td>\n",
       "      <td>Vegetables Primary</td>\n",
       "      <td>2022</td>\n",
       "      <td>NaN</td>\n",
       "      <td>NaN</td>\n",
       "      <td>65856.0</td>\n",
       "      <td>349.518396</td>\n",
       "      <td>-0.0091</td>\n",
       "      <td>628.716452</td>\n",
       "    </tr>\n",
       "  </tbody>\n",
       "</table>\n",
       "<p>1680326 rows × 9 columns</p>\n",
       "</div>"
      ],
      "text/plain": [
       "                Area                  Products  Year  Export Value  \\\n",
       "0        Afghanistan  Cereals and Preparations  1991       41600.0   \n",
       "1        Afghanistan  Cereals and Preparations  1991       41600.0   \n",
       "2        Afghanistan  Cereals and Preparations  1991       41600.0   \n",
       "3        Afghanistan  Cereals and Preparations  1991       41600.0   \n",
       "4        Afghanistan  Cereals and Preparations  1991       41600.0   \n",
       "...              ...                       ...   ...           ...   \n",
       "1680321     Zimbabwe        Vegetables Primary  2022           NaN   \n",
       "1680322     Zimbabwe        Vegetables Primary  2022           NaN   \n",
       "1680323     Zimbabwe        Vegetables Primary  2022           NaN   \n",
       "1680324     Zimbabwe        Vegetables Primary  2022           NaN   \n",
       "1680325     Zimbabwe        Vegetables Primary  2022           NaN   \n",
       "\n",
       "         Export Quantity  Crop Production  Exchange Rate_x  Land Temperature  \\\n",
       "0                    NaN              NaN        50.599605               NaN   \n",
       "1                    NaN              NaN        50.599605               NaN   \n",
       "2                    NaN              NaN        50.599605               NaN   \n",
       "3                    NaN              NaN        50.599605               NaN   \n",
       "4                    NaN              NaN        50.599605               NaN   \n",
       "...                  ...              ...              ...               ...   \n",
       "1680321              NaN          65856.0       349.518396           -0.0091   \n",
       "1680322              NaN          65856.0       349.518396           -0.0091   \n",
       "1680323              NaN          65856.0       349.518396           -0.0091   \n",
       "1680324              NaN          65856.0       349.518396           -0.0091   \n",
       "1680325              NaN          65856.0       349.518396           -0.0091   \n",
       "\n",
       "         Exchange Rate_y  \n",
       "0              50.599605  \n",
       "1              50.599605  \n",
       "2              50.599605  \n",
       "3              50.599605  \n",
       "4              50.599605  \n",
       "...                  ...  \n",
       "1680321       337.155164  \n",
       "1680322       400.810038  \n",
       "1680323       495.896171  \n",
       "1680324       597.970000  \n",
       "1680325       628.716452  \n",
       "\n",
       "[1680326 rows x 9 columns]"
      ]
     },
     "execution_count": 25,
     "metadata": {},
     "output_type": "execute_result"
    }
   ],
   "source": [
    "df"
   ]
  },
  {
   "cell_type": "code",
   "execution_count": 26,
   "id": "d63cf263",
   "metadata": {},
   "outputs": [],
   "source": [
    "#extract and merge relevant features from df_landtemp\n",
    "df_landtemp_subset = df_landtemp[['Year', 'Area', 'Value']]\n",
    "df_landtemp_subset = df_landtemp_subset.rename(columns={'Value': 'Land Temperature'})\n",
    "df = pd.merge(df, df_landtemp_subset, on=['Year', 'Area'], how='left')"
   ]
  },
  {
   "cell_type": "code",
   "execution_count": 27,
   "id": "e93083a8",
   "metadata": {},
   "outputs": [
    {
     "data": {
      "text/plain": [
       "Area                         0\n",
       "Products                     0\n",
       "Year                         0\n",
       "Export Value           8466690\n",
       "Export Quantity       10856485\n",
       "Crop Production       10079205\n",
       "Exchange Rate_x          62384\n",
       "Land Temperature_x      551525\n",
       "Exchange Rate_y          62384\n",
       "Land Temperature_y     1758532\n",
       "dtype: int64"
      ]
     },
     "execution_count": 27,
     "metadata": {},
     "output_type": "execute_result"
    }
   ],
   "source": [
    "df.isna().sum()"
   ]
  },
  {
   "cell_type": "code",
   "execution_count": 28,
   "id": "5315b97e",
   "metadata": {},
   "outputs": [],
   "source": [
    "#Fill Null Values\n",
    "df[\"Export Value\"] = df.groupby(\"Area\")[\"Export Value\"].transform(lambda x: x.fillna(x.mean()))\n",
    "df[\"Export Quantity\"] = df.groupby(\"Area\")[\"Export Quantity\"].transform(lambda x: x.fillna(x.mean()))\n",
    "df[\"Crop Production\"] = df.groupby(\"Area\")[\"Crop Production\"].transform(lambda x: x.fillna(x.mean()))\n",
    "df[\"Exchange Rate_x\"] = df.groupby(\"Area\")[\"Exchange Rate_x\"].transform(lambda x: x.fillna(x.mean()))\n",
    "df[\"Land Temperature_x\"] = df.groupby(\"Area\")[\"Land Temperature_x\"].transform(lambda x: x.fillna(x.mean()))\n",
    "df[\"Exchange Rate_y\"] = df.groupby(\"Area\")[\"Exchange Rate_y\"].transform(lambda x: x.fillna(x.mean()))\n",
    "df[\"Land Temperature_y\"] = df.groupby(\"Area\")[\"Land Temperature_y\"].transform(lambda x: x.fillna(x.mean()))"
   ]
  },
  {
   "cell_type": "code",
   "execution_count": 29,
   "id": "e0ec727d",
   "metadata": {},
   "outputs": [],
   "source": [
    "df[\"Export Value\"].fillna(df[\"Export Value\"].mean(), inplace=True)\n",
    "df[\"Export Quantity\"].fillna(df[\"Export Quantity\"].mean(), inplace=True)\n",
    "df[\"Crop Production\"].fillna(df[\"Crop Production\"].mean(), inplace=True)\n",
    "df[\"Exchange Rate_x\"].fillna(df[\"Exchange Rate_x\"].mean(), inplace=True)\n",
    "df[\"Land Temperature_x\"].fillna(df[\"Land Temperature_x\"].mean(), inplace=True)\n",
    "df[\"Exchange Rate_y\"].fillna(df[\"Exchange Rate_y\"].mean(), inplace=True)\n",
    "df[\"Land Temperature_y\"].fillna(df[\"Land Temperature_y\"].mean(), inplace=True)"
   ]
  },
  {
   "cell_type": "code",
   "execution_count": 30,
   "id": "8abfb27c",
   "metadata": {},
   "outputs": [],
   "source": [
    "df.dropna(inplace=True)"
   ]
  },
  {
   "cell_type": "code",
   "execution_count": 31,
   "id": "8c4e42fa",
   "metadata": {},
   "outputs": [
    {
     "data": {
      "text/plain": [
       "Area                  0\n",
       "Products              0\n",
       "Year                  0\n",
       "Export Value          0\n",
       "Export Quantity       0\n",
       "Crop Production       0\n",
       "Exchange Rate_x       0\n",
       "Land Temperature_x    0\n",
       "Exchange Rate_y       0\n",
       "Land Temperature_y    0\n",
       "dtype: int64"
      ]
     },
     "execution_count": 31,
     "metadata": {},
     "output_type": "execute_result"
    }
   ],
   "source": [
    "df.isna().sum()"
   ]
  },
  {
   "cell_type": "code",
   "execution_count": 32,
   "id": "553c6916",
   "metadata": {},
   "outputs": [],
   "source": [
    "#create lag features\n",
    "df['Export Value Lag 1'] = df.groupby(['Area', 'Products'])['Export Value'].shift(1)\n",
    "df['Export Value Lag 2'] = df.groupby(['Area', 'Products'])['Export Value'].shift(2)\n",
    "df['Export Value Lag 3'] = df.groupby(['Area', 'Products'])['Export Value'].shift(3)\n",
    "\n",
    "df['Export Quantity Lag 1'] = df.groupby(['Area', 'Products'])['Export Quantity'].shift(1)\n",
    "df['Export Quantity Lag 2'] = df.groupby(['Area', 'Products'])['Export Quantity'].shift(2)\n",
    "\n",
    "df['Crop Production Lag 1'] = df.groupby(['Area', 'Products'])['Crop Production'].shift(1)\n",
    "df['Crop Production Lag 2'] = df.groupby(['Area', 'Products'])['Crop Production'].shift(2)\n",
    "\n",
    "df['Exchange Rate_x Lag 1'] = df.groupby(['Area'])['Exchange Rate_x'].shift(1)\n",
    "df['Exchange Rate_x Lag 2'] = df.groupby(['Area'])['Exchange Rate_x'].shift(2)\n",
    "\n",
    "df['Land Temperature_x Lag 1'] = df.groupby(['Area'])['Land Temperature_x'].shift(1)\n",
    "df['Land Temperature_x Lag 2'] = df.groupby(['Area'])['Land Temperature_x'].shift(2)\n",
    "\n",
    "df['Exchange Rate_y Lag 1'] = df.groupby(['Area'])['Exchange Rate_y'].shift(1)\n",
    "df['Exchange Rate_y Lag 2'] = df.groupby(['Area'])['Exchange Rate_y'].shift(2)\n",
    "\n",
    "df['Land Temperature_y Lag 1'] = df.groupby(['Area'])['Land Temperature_y'].shift(1)\n",
    "df['Land Temperature_y Lag 2'] = df.groupby(['Area'])['Land Temperature_y'].shift(2)"
   ]
  },
  {
   "cell_type": "code",
   "execution_count": 33,
   "id": "51c68719",
   "metadata": {
    "scrolled": true
   },
   "outputs": [
    {
     "data": {
      "text/plain": [
       "Area                            0\n",
       "Products                        0\n",
       "Year                            0\n",
       "Export Value                    0\n",
       "Export Quantity                 0\n",
       "Crop Production                 0\n",
       "Exchange Rate_x                 0\n",
       "Land Temperature_x              0\n",
       "Exchange Rate_y                 0\n",
       "Land Temperature_y              0\n",
       "Export Value Lag 1           7228\n",
       "Export Value Lag 2          14445\n",
       "Export Value Lag 3          21650\n",
       "Export Quantity Lag 1        7228\n",
       "Export Quantity Lag 2       14445\n",
       "Crop Production Lag 1        7228\n",
       "Crop Production Lag 2       14445\n",
       "Exchange Rate_x Lag 1         212\n",
       "Exchange Rate_x Lag 2         424\n",
       "Land Temperature_x Lag 1      212\n",
       "Land Temperature_x Lag 2      424\n",
       "Exchange Rate_y Lag 1         212\n",
       "Exchange Rate_y Lag 2         424\n",
       "Land Temperature_y Lag 1      212\n",
       "Land Temperature_y Lag 2      424\n",
       "dtype: int64"
      ]
     },
     "execution_count": 33,
     "metadata": {},
     "output_type": "execute_result"
    }
   ],
   "source": [
    "df.isna().sum()"
   ]
  },
  {
   "cell_type": "code",
   "execution_count": 34,
   "id": "49b8bb47",
   "metadata": {},
   "outputs": [],
   "source": [
    "#Fill null values with overall mean\n",
    "df['Export Value Lag 1'] = df['Export Value Lag 1'].fillna(df['Export Value Lag 1'].mean())\n",
    "df['Export Value Lag 2'] = df['Export Value Lag 2'].fillna(df['Export Value Lag 2'].mean())\n",
    "df['Export Value Lag 3'] = df['Export Value Lag 3'].fillna(df['Export Value Lag 3'].mean())\n",
    "df['Export Quantity Lag 1'] = df['Export Quantity Lag 1'].fillna(df['Export Quantity Lag 1'].mean())\n",
    "df['Export Quantity Lag 2'] = df['Export Quantity Lag 2'].fillna(df['Export Quantity Lag 2'].mean())\n",
    "df['Crop Production Lag 1'] = df['Crop Production Lag 1'].fillna(df['Crop Production Lag 1'].mean())\n",
    "df['Crop Production Lag 2'] = df['Crop Production Lag 2'].fillna(df['Crop Production Lag 2'].mean())\n",
    "df['Exchange Rate_x Lag 1'] = df['Exchange Rate_x Lag 1'].fillna(df['Exchange Rate_x Lag 1'].mean())\n",
    "df['Exchange Rate_x Lag 2'] = df['Exchange Rate_x Lag 2'].fillna(df['Exchange Rate_x Lag 2'].mean())\n",
    "df['Land Temperature_x Lag 1'] = df['Land Temperature_x Lag 1'].fillna(df['Land Temperature_x Lag 1'].mean())\n",
    "df['Land Temperature_x Lag 2'] = df['Land Temperature_x Lag 2'].fillna(df['Land Temperature_x Lag 2'].mean())\n",
    "df['Exchange Rate_y Lag 1'] = df['Exchange Rate_y Lag 1'].fillna(df['Exchange Rate_y Lag 1'].mean())\n",
    "df['Exchange Rate_y Lag 2'] = df['Exchange Rate_y Lag 2'].fillna(df['Exchange Rate_y Lag 2'].mean())\n",
    "df['Land Temperature_y Lag 1'] = df['Land Temperature_y Lag 1'].fillna(df['Land Temperature_y Lag 1'].mean())\n",
    "df['Land Temperature_y Lag 2'] = df['Land Temperature_y Lag 2'].fillna(df['Land Temperature_y Lag 2'].mean())"
   ]
  },
  {
   "cell_type": "code",
   "execution_count": 35,
   "id": "2ade512e",
   "metadata": {},
   "outputs": [],
   "source": [
    "scaler = StandardScaler()\n",
    "df[['Exchange Rate_x', 'Exchange Rate_y', 'Land Temperature_y', 'Land Temperature_x', 'Crop Production']] = scaler.fit_transform(df[['Exchange Rate_x', 'Exchange Rate_y', 'Land Temperature_y', 'Land Temperature_x', 'Crop Production']])"
   ]
  },
  {
   "cell_type": "code",
   "execution_count": 36,
   "id": "6c32466f",
   "metadata": {},
   "outputs": [
    {
     "data": {
      "text/plain": [
       "Area                        0\n",
       "Products                    0\n",
       "Year                        0\n",
       "Export Value                0\n",
       "Export Quantity             0\n",
       "Crop Production             0\n",
       "Exchange Rate_x             0\n",
       "Land Temperature_x          0\n",
       "Exchange Rate_y             0\n",
       "Land Temperature_y          0\n",
       "Export Value Lag 1          0\n",
       "Export Value Lag 2          0\n",
       "Export Value Lag 3          0\n",
       "Export Quantity Lag 1       0\n",
       "Export Quantity Lag 2       0\n",
       "Crop Production Lag 1       0\n",
       "Crop Production Lag 2       0\n",
       "Exchange Rate_x Lag 1       0\n",
       "Exchange Rate_x Lag 2       0\n",
       "Land Temperature_x Lag 1    0\n",
       "Land Temperature_x Lag 2    0\n",
       "Exchange Rate_y Lag 1       0\n",
       "Exchange Rate_y Lag 2       0\n",
       "Land Temperature_y Lag 1    0\n",
       "Land Temperature_y Lag 2    0\n",
       "dtype: int64"
      ]
     },
     "execution_count": 36,
     "metadata": {},
     "output_type": "execute_result"
    }
   ],
   "source": [
    "df.isna().sum()"
   ]
  },
  {
   "cell_type": "code",
   "execution_count": 47,
   "id": "bca9855b",
   "metadata": {},
   "outputs": [
    {
     "name": "stdout",
     "output_type": "stream",
     "text": [
      "1991\n",
      "2022\n"
     ]
    }
   ],
   "source": [
    "print(df.Year.min())\n",
    "print(df.Year.max())"
   ]
  },
  {
   "cell_type": "code",
   "execution_count": 53,
   "id": "32e45b9f",
   "metadata": {
    "scrolled": true
   },
   "outputs": [
    {
     "name": "stdout",
     "output_type": "stream",
     "text": [
      "Training set size: 13586325\n",
      "Testing set size: 1236800\n"
     ]
    }
   ],
   "source": [
    "data = df.copy()\n",
    "\n",
    "#Label encoding on categorical variables\n",
    "encoder = LabelEncoder()\n",
    "data[['Area', 'Products']] = data[['Area', 'Products']].apply(lambda x: encoder.fit_transform(x))\n",
    "\n",
    "\n",
    "#Split the data into training and validation sets based on a specific year threshold\n",
    "train_data = data[data[\"Year\"] <= 2020]\n",
    "val_data = data[(data[\"Year\"] > 2020) & (data[\"Year\"] <= 2022)]\n",
    "\n",
    "#Separate features and target variable for training and validation sets\n",
    "X_train = train_data.drop(columns=['Export Value', 'Year'])\n",
    "y_train = train_data['Export Value']\n",
    "X_val = val_data.drop(columns=['Export Value', 'Year'])\n",
    "y_val = val_data['Export Value']\n",
    "\n",
    "\n",
    "\n",
    "#training and testing sets sizes\n",
    "print(\"Training set size:\", X_train.shape[0])\n",
    "print(\"Validation set size:\", X_val.shape[0])"
   ]
  },
  {
   "cell_type": "markdown",
   "id": "afcb5583",
   "metadata": {},
   "source": [
    "# Model Training"
   ]
  },
  {
   "cell_type": "code",
   "execution_count": null,
   "id": "4ed56123",
   "metadata": {},
   "outputs": [],
   "source": []
  },
  {
   "cell_type": "code",
   "execution_count": 55,
   "id": "46d2c678",
   "metadata": {
    "scrolled": true
   },
   "outputs": [
    {
     "name": "stdout",
     "output_type": "stream",
     "text": [
      "Training time: 15199.982423782349 seconds\n"
     ]
    }
   ],
   "source": [
    "import time\n",
    "\n",
    "\n",
    "mlp_regressor = MLPRegressor(hidden_layer_sizes=(50,25), activation='relu', solver='adam', max_iter=500, alpha = 0.01, batch_size = 64, random_state=42)\n",
    "start_time = time.time()\n",
    "mlp_regressor.fit(X_train, y_train)\n",
    "end_time = time.time()\n",
    "\n",
    "training_time = end_time - start_time\n",
    "print(\"Training time:\", training_time, \"seconds\")"
   ]
  },
  {
   "cell_type": "code",
   "execution_count": 56,
   "id": "d70ae29c",
   "metadata": {},
   "outputs": [
    {
     "name": "stdout",
     "output_type": "stream",
     "text": [
      "Validation Results:\n",
      "Mean Squared Error (MSE): 1532468379.1302736\n",
      "Mean Absolute Error (MAE): 1881.513166568991\n",
      "R-squared (R2): 0.9996998488214139\n"
     ]
    }
   ],
   "source": [
    "#Model evaluation\n",
    "y_pred_val = mlp_regressor.predict(X_val)\n",
    "mse_val = mean_squared_error(y_val, y_pred_val)\n",
    "mae_val = mean_absolute_error(y_val, y_pred_val)\n",
    "r2_val = r2_score(y_val, y_pred_val)\n",
    "\n",
    "print(\"Validation Results:\")\n",
    "print(\"Mean Squared Error (MSE):\", mse_val)\n",
    "print(\"Mean Absolute Error (MAE):\", mae_val)\n",
    "print(\"R-squared (R2):\", r2_val)"
   ]
  },
  {
   "cell_type": "code",
   "execution_count": 77,
   "id": "2d94f651",
   "metadata": {},
   "outputs": [],
   "source": [
    "# Combine true and predicted values into a DataFrame\n",
    "validation_results = pd.DataFrame({\n",
    "    \"Year\": val_data[\"Year\"],\n",
    "    \"Area\": val_data[\"Area\"],\n",
    "    \"Products\": val_data[\"Products\"],\n",
    "    \"True Export Value\": y_val,\n",
    "    \"Predicted Export Value\": y_pred_val\n",
    "})"
   ]
  },
  {
   "cell_type": "code",
   "execution_count": 78,
   "id": "73e7f894",
   "metadata": {},
   "outputs": [
    {
     "name": "stdout",
     "output_type": "stream",
     "text": [
      "Validation Results:\n",
      "          Year  Area  Products  True Export Value  Predicted Export Value\n",
      "2628      2021     0         2       1.038183e+06            1.025115e+06\n",
      "2629      2021     0         2       1.038183e+06            1.034587e+06\n",
      "2630      2021     0         2       1.038183e+06            1.035501e+06\n",
      "2631      2021     0         2       1.038183e+06            1.036068e+06\n",
      "2632      2021     0         2       1.038183e+06            1.036077e+06\n",
      "...        ...   ...       ...                ...                     ...\n",
      "14823120  2022   211        38       7.075696e+04            7.105150e+04\n",
      "14823121  2022   211        38       7.075696e+04            7.104333e+04\n",
      "14823122  2022   211        38       7.075696e+04            7.105018e+04\n",
      "14823123  2022   211        38       7.075696e+04            7.104836e+04\n",
      "14823124  2022   211        38       7.075696e+04            7.105322e+04\n",
      "\n",
      "[1236800 rows x 5 columns]\n"
     ]
    }
   ],
   "source": [
    "# Print the validation results\n",
    "print(\"Validation Results:\")\n",
    "print(validation_results)"
   ]
  },
  {
   "cell_type": "code",
   "execution_count": 79,
   "id": "544eae9d",
   "metadata": {},
   "outputs": [
    {
     "name": "stdout",
     "output_type": "stream",
     "text": [
      "Predictionresults saved to validation_results.csv\n"
     ]
    }
   ],
   "source": [
    "validation_results.to_csv(\"predictions_results.csv\", index=False)\n",
    "print(\"Predictionresults saved to validation_results.csv\")"
   ]
  },
  {
   "cell_type": "code",
   "execution_count": null,
   "id": "991253b2",
   "metadata": {},
   "outputs": [],
   "source": []
  }
 ],
 "metadata": {
  "kernelspec": {
   "display_name": "Python 3 (ipykernel)",
   "language": "python",
   "name": "python3"
  },
  "language_info": {
   "codemirror_mode": {
    "name": "ipython",
    "version": 3
   },
   "file_extension": ".py",
   "mimetype": "text/x-python",
   "name": "python",
   "nbconvert_exporter": "python",
   "pygments_lexer": "ipython3",
   "version": "3.11.4"
  }
 },
 "nbformat": 4,
 "nbformat_minor": 5
}
